{
 "cells": [
  {
   "cell_type": "code",
   "execution_count": 2,
   "metadata": {},
   "outputs": [],
   "source": [
    "from langchain_openai import OpenAIEmbeddings\n",
    "import numpy as np\n",
    "\n",
    "from dotenv import load_dotenv\n",
    "load_dotenv()\n",
    "\n",
    "def generateEmbedding(docs):\n",
    "    \"\"\"\n",
    "    Generate the embedding for the given document\n",
    "    \"\"\"\n",
    "    embeddings_model = OpenAIEmbeddings()\n",
    "    return np.array(embeddings_model.embed_documents(docs))"
   ]
  },
  {
   "cell_type": "code",
   "execution_count": 40,
   "metadata": {},
   "outputs": [],
   "source": [
    "reference_embeddings = generateEmbedding(['dog', 'puppy', 'wolf', 'pet', 'hound'])\n"
   ]
  },
  {
   "cell_type": "code",
   "execution_count": 45,
   "metadata": {},
   "outputs": [],
   "source": [
    "import numpy as np\n",
    "\n",
    "target_terms = ['doggy', 'pooch', 'bird', 'king', 'television', 'mongrel']\n",
    "\n",
    "data = {}\n",
    "\n",
    "for term in target_terms:\n",
    "  target_embedding = generateEmbedding([term])[0]\n",
    "  score = 0\n",
    "  for embedding in reference_embeddings:\n",
    "    score += np.dot(target_embedding, embedding)\n",
    "\n",
    "  data[term] = score/len(reference_embeddings)\n"
   ]
  },
  {
   "cell_type": "code",
   "execution_count": 7,
   "metadata": {},
   "outputs": [
    {
     "name": "stdout",
     "output_type": "stream",
     "text": [
      "0.754168198263606\n"
     ]
    }
   ],
   "source": [
    "article1 = \"AWS Glue now can detect 250 sensitive entity types from over 50 countries \\n Posted On:  Jun 23, 2023 \\nSensitive data detection feature in AWS Glue can now detect over 250 sensitive entity types from 50 countries out-of-the-box.\\nSensitive data detection feature in AWS Glue identifies a variety of sensitive data elements like social security numbers, credit card numbers, names, driver license numbers and other entities. Once detected, customers can take actions to redact the sensitive information before writing records into their data repositories. Customers can use this from AWS Glue Studio, Glue Interactive sessions and AWS Glue Studio.\\nWith this new capability, customers can detect data that is classified as sensitive in over 50 countries without having to write complex code. Supported countries include Argentina, Australia, Austria, Balkans, Belgium, Brazil, Bulgaria, Canada, Chile, China, Colombia, Croatia, Cyprus, Czechia, Denmark, Estonia, Finland, France, Germany, Greece, Hungary, Iceland, India, Indonesia, Ireland, Israel, Italy, Japan, Korea, Latvia, Liechtenstein, Lithuania, Luxembourg, Malaysia, Malta, Mexico, Netherlands, New Zealand, Norway, Philippines, Poland, Portugal, Romania, Singapore, Slovakia, Slovenia, SouthAfrica, Spain, Sri Lanka, Sweden, Switzerland, Thailand, Turkey, UAE, United Kingdom, Ukraine, United States, and Venezuela. Customers can also create custom detectors to detect entities specific to their organizations. This feature is available in the commercial Regions as AWS Glue.\\nTo learn more about Sensitive Data Detection in AWS Glue Studio, visit our documentation.\\n Learn About AWS\\n Resources for AWS\\n Developers on AWS\\n Help\\n Ending Support for Internet Explorer\\n\"\n",
    "article2 = \"Amazon RDS now supports M6gd database instances in six additional AWS regions \\n Posted On:  Apr 4, 2024 \\nAmazon Relational Database Service (Amazon RDS) for PostgreSQL, MySQL, and MariaDB now supports AWS Graviton2-based M6gd database instances in Asia Pacific (Hong Kong, Melbourne, Seoul), Canada (Central), Europe (Milan), and Middle East (Bahrain) regions.\\nWith this regional expansion, M6gd instances are now available for Amazon RDS for PostgreSQL, MySQL, and MariaDB in 21 regions: US East (Ohio, N. Virginia), US West (Oregon), Asia Pacific (Hong Kong, Jakarta, Melbourne, Mumbai, Osaka, Seoul, Singapore, Sydney, Tokyo), Canada (Calgary, Central), Europe (Frankfurt, Ireland, London, Milan, Paris, Stockholm), and Middle East (Bahrain) regions. For complete information on pricing and regional availability, please refer to the Amazon RDS pricing page.\\nM6gd database instances are available on Amazon RDS for PostgreSQL version 16.1 and higher, 15.2 and higher, 14.5 and higher, and 13.4 and higher. M6gd and R6gd database instances are available on Amazon RDS for MySQL version 8.0.28 and higher, and Amazon RDS for MariaDB version 10.11.4 and higher, 10.6.7 and higher, 10.5.16 and higher, and 10.4.25 and higher. Get started by creating a fully managed M6gd database instance using the Amazon RDS Management Console. For more details, refer to the Amazon RDS User Guide.\\n Learn About AWS\\n Resources for AWS\\n Developers on AWS\\n Help\\n Ending Support for Internet Explorer\\n\"\n",
    "\n",
    "article1_embedding = generateEmbedding([article1])[0]\n",
    "article2_embedding = generateEmbedding([article2])[0]\n",
    "\n",
    "score = np.dot(article1_embedding, article2_embedding)\n",
    "print(score)"
   ]
  }
 ],
 "metadata": {
  "kernelspec": {
   "display_name": "fine-tune-article",
   "language": "python",
   "name": "python3"
  },
  "language_info": {
   "codemirror_mode": {
    "name": "ipython",
    "version": 3
   },
   "file_extension": ".py",
   "mimetype": "text/x-python",
   "name": "python",
   "nbconvert_exporter": "python",
   "pygments_lexer": "ipython3",
   "version": "3.11.7"
  }
 },
 "nbformat": 4,
 "nbformat_minor": 2
}
