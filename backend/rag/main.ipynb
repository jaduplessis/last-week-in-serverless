{
 "cells": [
  {
   "cell_type": "code",
   "execution_count": 1,
   "metadata": {},
   "outputs": [],
   "source": [
    "import os\n",
    "import dotenv\n",
    "\n",
    "dotenv.load_dotenv()\n",
    "os.environ[\"LANGCHAIN_TRACING_V2\"] = \"true\"\n",
    "os.environ[\"LANGCHAIN_API_KEY\"] = os.environ[\"OPENAI_API_KEY\"]"
   ]
  },
  {
   "cell_type": "code",
   "execution_count": 15,
   "metadata": {},
   "outputs": [],
   "source": [
    "from load import load_documents\n",
    "from split import split_documents\n",
    "from store import store_documents\n",
    "from chain import retrieve_and_generate\n",
    "\n",
    "file = \"../../data/context/whats_new.json\"\n",
    "docs = load_documents(file)\n",
    "\n",
    "splits = split_documents(docs)\n",
    "vectorstore = store_documents(splits)\n",
    "rag_chain = retrieve_and_generate(vectorstore)\n"
   ]
  },
  {
   "cell_type": "code",
   "execution_count": 22,
   "metadata": {},
   "outputs": [],
   "source": [
    "question = \"What updates have there been with serverless and related technologies this week?\""
   ]
  },
  {
   "cell_type": "code",
   "execution_count": 27,
   "metadata": {},
   "outputs": [
    {
     "name": "stdout",
     "output_type": "stream",
     "text": [
      "page_content='ElastiCache Serverless is now available in the AWS GovCloud (US) Regions \\n Posted On:  Apr 2, 2024' metadata={'category': 'Databases', 'pubDate': 'Tue, 02 Apr 2024 17:05:08 +0000', 'relevance': 38.46153846153847, 'seq_num': 5, 'source': 'https://aws.amazon.com/about-aws/whats-new/2024/04/elasticache-serverless-aws-govcloud-us-regions/', 'title': 'ElastiCache Serverless is now available in the AWS GovCloud (US) Regions'}\n",
      "\n",
      "page_content='ElastiCache Serverless is now available in the AWS GovCloud (US) Regions \\n Posted On:  Apr 2, 2024' metadata={'category': 'Databases', 'pubDate': 'Tue, 02 Apr 2024 17:05:08 +0000', 'relevance': 38.46153846153847, 'seq_num': 5, 'source': 'https://aws.amazon.com/about-aws/whats-new/2024/04/elasticache-serverless-aws-govcloud-us-regions/', 'title': 'ElastiCache Serverless is now available in the AWS GovCloud (US) Regions'}\n",
      "\n",
      "page_content='Today, AWS announces the availability of Amazon ElastiCache Serverless in the AWS GovCloud (US) Regions. ElastiCache Serverless simplifies cache management and scales to support the most demanding applications. With ElastiCache Serverless, you can create a highly available and scalable cache in less than a minute, eliminating the need to plan for, provision, and manage cache cluster capacity. ElastiCache Serverless automatically stores data redundantly across multiple Availability Zones (AZs)' metadata={'category': 'Databases', 'pubDate': 'Tue, 02 Apr 2024 17:05:08 +0000', 'relevance': 38.46153846153847, 'seq_num': 5, 'source': 'https://aws.amazon.com/about-aws/whats-new/2024/04/elasticache-serverless-aws-govcloud-us-regions/', 'title': 'ElastiCache Serverless is now available in the AWS GovCloud (US) Regions'}\n",
      "\n",
      "page_content='Today, AWS announces the availability of Amazon ElastiCache Serverless in the AWS GovCloud (US) Regions. ElastiCache Serverless simplifies cache management and scales to support the most demanding applications. With ElastiCache Serverless, you can create a highly available and scalable cache in less than a minute, eliminating the need to plan for, provision, and manage cache cluster capacity. ElastiCache Serverless automatically stores data redundantly across multiple Availability Zones (AZs)' metadata={'category': 'Databases', 'pubDate': 'Tue, 02 Apr 2024 17:05:08 +0000', 'relevance': 38.46153846153847, 'seq_num': 5, 'source': 'https://aws.amazon.com/about-aws/whats-new/2024/04/elasticache-serverless-aws-govcloud-us-regions/', 'title': 'ElastiCache Serverless is now available in the AWS GovCloud (US) Regions'}\n",
      "\n"
     ]
    }
   ],
   "source": [
    "# Retrieve and generate using the relevant snippets of the blog.\n",
    "retriever = vectorstore.as_retriever(search_type=\"similarity_score_threshold\", search_kwargs={\"score_threshold\": 0.01})\n",
    "retrieved_docs = retriever.get_relevant_documents(question)\n",
    "for doc in retrieved_docs:\n",
    "    print(doc)\n",
    "    print()"
   ]
  }
 ],
 "metadata": {
  "kernelspec": {
   "display_name": "fine-tune-article",
   "language": "python",
   "name": "python3"
  },
  "language_info": {
   "codemirror_mode": {
    "name": "ipython",
    "version": 3
   },
   "file_extension": ".py",
   "mimetype": "text/x-python",
   "name": "python",
   "nbconvert_exporter": "python",
   "pygments_lexer": "ipython3",
   "version": "3.11.7"
  }
 },
 "nbformat": 4,
 "nbformat_minor": 2
}
